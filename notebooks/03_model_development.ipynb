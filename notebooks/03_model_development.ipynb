{
 "cells": [
  {
   "cell_type": "code",
   "execution_count": 1,
   "metadata": {},
   "outputs": [
    {
     "name": "stdout",
     "output_type": "stream",
     "text": [
      "✅ Data loaded successfully\n"
     ]
    }
   ],
   "source": [
    "# 1. Import Libraries\n",
    "import pandas as pd\n",
    "import numpy as np\n",
    "import pickle\n",
    "from sklearn.linear_model import LogisticRegression\n",
    "from sklearn.tree import DecisionTreeClassifier\n",
    "from sklearn.ensemble import RandomForestClassifier, GradientBoostingClassifier\n",
    "from sklearn.metrics import accuracy_score, precision_score, recall_score, f1_score\n",
    "from sklearn.metrics import confusion_matrix, classification_report, roc_curve, auc\n",
    "import plotly.express as px\n",
    "import plotly.graph_objects as go\n",
    "from plotly.subplots import make_subplots\n",
    "\n",
    "# Load processed data\n",
    "with open('../data/processed_data.pkl', 'rb') as f:\n",
    "    data = pickle.load(f)\n",
    "    \n",
    "X_train = data['X_train']\n",
    "X_test = data['X_test']\n",
    "y_train = data['y_train']\n",
    "y_test = data['y_test']\n",
    "\n",
    "print(\"✅ Data loaded successfully\")"
   ]
  },
  {
   "cell_type": "code",
   "execution_count": 2,
   "metadata": {},
   "outputs": [
    {
     "name": "stdout",
     "output_type": "stream",
     "text": [
      "✅ Logistic Regression trained and evaluated\n",
      "✅ Decision Tree trained and evaluated\n",
      "✅ Random Forest trained and evaluated\n",
      "✅ Gradient Boosting trained and evaluated\n"
     ]
    },
    {
     "data": {
      "text/html": [
       "<div>\n",
       "<style scoped>\n",
       "    .dataframe tbody tr th:only-of-type {\n",
       "        vertical-align: middle;\n",
       "    }\n",
       "\n",
       "    .dataframe tbody tr th {\n",
       "        vertical-align: top;\n",
       "    }\n",
       "\n",
       "    .dataframe thead th {\n",
       "        text-align: right;\n",
       "    }\n",
       "</style>\n",
       "<table border=\"1\" class=\"dataframe\">\n",
       "  <thead>\n",
       "    <tr style=\"text-align: right;\">\n",
       "      <th></th>\n",
       "      <th>Model</th>\n",
       "      <th>Accuracy</th>\n",
       "      <th>Precision</th>\n",
       "      <th>Recall</th>\n",
       "      <th>F1 Score</th>\n",
       "    </tr>\n",
       "  </thead>\n",
       "  <tbody>\n",
       "    <tr>\n",
       "      <th>0</th>\n",
       "      <td>Logistic Regression</td>\n",
       "      <td>0.792051</td>\n",
       "      <td>0.628571</td>\n",
       "      <td>0.529412</td>\n",
       "      <td>0.574746</td>\n",
       "    </tr>\n",
       "    <tr>\n",
       "      <th>1</th>\n",
       "      <td>Decision Tree</td>\n",
       "      <td>0.731015</td>\n",
       "      <td>0.493473</td>\n",
       "      <td>0.505348</td>\n",
       "      <td>0.499339</td>\n",
       "    </tr>\n",
       "    <tr>\n",
       "      <th>2</th>\n",
       "      <td>Random Forest</td>\n",
       "      <td>0.783534</td>\n",
       "      <td>0.616162</td>\n",
       "      <td>0.489305</td>\n",
       "      <td>0.545455</td>\n",
       "    </tr>\n",
       "    <tr>\n",
       "      <th>3</th>\n",
       "      <td>Gradient Boosting</td>\n",
       "      <td>0.796309</td>\n",
       "      <td>0.647458</td>\n",
       "      <td>0.510695</td>\n",
       "      <td>0.571001</td>\n",
       "    </tr>\n",
       "  </tbody>\n",
       "</table>\n",
       "</div>"
      ],
      "text/plain": [
       "                 Model  Accuracy  Precision    Recall  F1 Score\n",
       "0  Logistic Regression  0.792051   0.628571  0.529412  0.574746\n",
       "1        Decision Tree  0.731015   0.493473  0.505348  0.499339\n",
       "2        Random Forest  0.783534   0.616162  0.489305  0.545455\n",
       "3    Gradient Boosting  0.796309   0.647458  0.510695  0.571001"
      ]
     },
     "metadata": {},
     "output_type": "display_data"
    }
   ],
   "source": [
    "# 2. Model Training Function\n",
    "def train_evaluate_model(model, X_train, X_test, y_train, y_test, model_name):\n",
    "    # Train model\n",
    "    model.fit(X_train, y_train)\n",
    "    \n",
    "    # Make predictions\n",
    "    y_pred = model.predict(X_test)\n",
    "    y_pred_proba = model.predict_proba(X_test)[:, 1]\n",
    "    \n",
    "    # Calculate metrics\n",
    "    metrics = {\n",
    "        'Model': model_name,\n",
    "        'Accuracy': accuracy_score(y_test, y_pred),\n",
    "        'Precision': precision_score(y_test, y_pred),\n",
    "        'Recall': recall_score(y_test, y_pred),\n",
    "        'F1 Score': f1_score(y_test, y_pred)\n",
    "    }\n",
    "    \n",
    "    # ROC curve\n",
    "    fpr, tpr, _ = roc_curve(y_test, y_pred_proba)\n",
    "    roc_auc = auc(fpr, tpr)\n",
    "    \n",
    "    return metrics, (fpr, tpr, roc_auc)\n",
    "\n",
    "# Initialize models\n",
    "models = {\n",
    "    'Logistic Regression': LogisticRegression(random_state=42),\n",
    "    'Decision Tree': DecisionTreeClassifier(random_state=42),\n",
    "    'Random Forest': RandomForestClassifier(random_state=42),\n",
    "    'Gradient Boosting': GradientBoostingClassifier(random_state=42)\n",
    "}\n",
    "\n",
    "# Train and evaluate all models\n",
    "results = []\n",
    "roc_curves = {}\n",
    "\n",
    "for name, model in models.items():\n",
    "    metrics, roc_data = train_evaluate_model(model, X_train, X_test, y_train, y_test, name)\n",
    "    results.append(metrics)\n",
    "    roc_curves[name] = roc_data\n",
    "    print(f\"✅ {name} trained and evaluated\")\n",
    "\n",
    "# Create results DataFrame\n",
    "results_df = pd.DataFrame(results)\n",
    "display(results_df)"
   ]
  },
  {
   "cell_type": "code",
   "execution_count": 3,
   "metadata": {},
   "outputs": [
    {
     "data": {
      "application/vnd.plotly.v1+json": {
       "config": {
        "plotlyServerURL": "https://plot.ly"
       },
       "data": [
        {
         "name": "Accuracy",
         "type": "bar",
         "x": [
          "Logistic Regression",
          "Decision Tree",
          "Random Forest",
          "Gradient Boosting"
         ],
         "y": {
          "bdata": "zRlyjHtY6T8x8kteeWTnPyijfse2Euk/H9Xr7l176T8=",
          "dtype": "f8"
         }
        },
        {
         "name": "Precision",
         "type": "bar",
         "x": [
          "Logistic Regression",
          "Decision Tree",
          "Random Forest",
          "Gradient Boosting"
         ],
         "y": {
          "bdata": "1EEd1EEd5D9iklsJDpXfP2LezpCYt+M/nqbADvm35D8=",
          "dtype": "f8"
         }
        },
        {
         "name": "Recall",
         "type": "bar",
         "x": [
          "Logistic Regression",
          "Decision Tree",
          "Random Forest",
          "Gradient Boosting"
         ],
         "y": {
          "bdata": "8fDw8PDw4D8soHG3zivgP1F/OSLFUN8/WEDjbp1X4D8=",
          "dtype": "f8"
         }
        },
        {
         "name": "F1 Score",
         "type": "bar",
         "x": [
          "Logistic Regression",
          "Decision Tree",
          "Random Forest",
          "Gradient Boosting"
         ],
         "y": {
          "bdata": "8xLdvVFk4j+RymWnLfXfP3TRRRdddOE/guc/7aRF4j8=",
          "dtype": "f8"
         }
        }
       ],
       "layout": {
        "barmode": "group",
        "template": {
         "data": {
          "bar": [
           {
            "error_x": {
             "color": "#2a3f5f"
            },
            "error_y": {
             "color": "#2a3f5f"
            },
            "marker": {
             "line": {
              "color": "#E5ECF6",
              "width": 0.5
             },
             "pattern": {
              "fillmode": "overlay",
              "size": 10,
              "solidity": 0.2
             }
            },
            "type": "bar"
           }
          ],
          "barpolar": [
           {
            "marker": {
             "line": {
              "color": "#E5ECF6",
              "width": 0.5
             },
             "pattern": {
              "fillmode": "overlay",
              "size": 10,
              "solidity": 0.2
             }
            },
            "type": "barpolar"
           }
          ],
          "carpet": [
           {
            "aaxis": {
             "endlinecolor": "#2a3f5f",
             "gridcolor": "white",
             "linecolor": "white",
             "minorgridcolor": "white",
             "startlinecolor": "#2a3f5f"
            },
            "baxis": {
             "endlinecolor": "#2a3f5f",
             "gridcolor": "white",
             "linecolor": "white",
             "minorgridcolor": "white",
             "startlinecolor": "#2a3f5f"
            },
            "type": "carpet"
           }
          ],
          "choropleth": [
           {
            "colorbar": {
             "outlinewidth": 0,
             "ticks": ""
            },
            "type": "choropleth"
           }
          ],
          "contour": [
           {
            "colorbar": {
             "outlinewidth": 0,
             "ticks": ""
            },
            "colorscale": [
             [
              0,
              "#0d0887"
             ],
             [
              0.1111111111111111,
              "#46039f"
             ],
             [
              0.2222222222222222,
              "#7201a8"
             ],
             [
              0.3333333333333333,
              "#9c179e"
             ],
             [
              0.4444444444444444,
              "#bd3786"
             ],
             [
              0.5555555555555556,
              "#d8576b"
             ],
             [
              0.6666666666666666,
              "#ed7953"
             ],
             [
              0.7777777777777778,
              "#fb9f3a"
             ],
             [
              0.8888888888888888,
              "#fdca26"
             ],
             [
              1,
              "#f0f921"
             ]
            ],
            "type": "contour"
           }
          ],
          "contourcarpet": [
           {
            "colorbar": {
             "outlinewidth": 0,
             "ticks": ""
            },
            "type": "contourcarpet"
           }
          ],
          "heatmap": [
           {
            "colorbar": {
             "outlinewidth": 0,
             "ticks": ""
            },
            "colorscale": [
             [
              0,
              "#0d0887"
             ],
             [
              0.1111111111111111,
              "#46039f"
             ],
             [
              0.2222222222222222,
              "#7201a8"
             ],
             [
              0.3333333333333333,
              "#9c179e"
             ],
             [
              0.4444444444444444,
              "#bd3786"
             ],
             [
              0.5555555555555556,
              "#d8576b"
             ],
             [
              0.6666666666666666,
              "#ed7953"
             ],
             [
              0.7777777777777778,
              "#fb9f3a"
             ],
             [
              0.8888888888888888,
              "#fdca26"
             ],
             [
              1,
              "#f0f921"
             ]
            ],
            "type": "heatmap"
           }
          ],
          "histogram": [
           {
            "marker": {
             "pattern": {
              "fillmode": "overlay",
              "size": 10,
              "solidity": 0.2
             }
            },
            "type": "histogram"
           }
          ],
          "histogram2d": [
           {
            "colorbar": {
             "outlinewidth": 0,
             "ticks": ""
            },
            "colorscale": [
             [
              0,
              "#0d0887"
             ],
             [
              0.1111111111111111,
              "#46039f"
             ],
             [
              0.2222222222222222,
              "#7201a8"
             ],
             [
              0.3333333333333333,
              "#9c179e"
             ],
             [
              0.4444444444444444,
              "#bd3786"
             ],
             [
              0.5555555555555556,
              "#d8576b"
             ],
             [
              0.6666666666666666,
              "#ed7953"
             ],
             [
              0.7777777777777778,
              "#fb9f3a"
             ],
             [
              0.8888888888888888,
              "#fdca26"
             ],
             [
              1,
              "#f0f921"
             ]
            ],
            "type": "histogram2d"
           }
          ],
          "histogram2dcontour": [
           {
            "colorbar": {
             "outlinewidth": 0,
             "ticks": ""
            },
            "colorscale": [
             [
              0,
              "#0d0887"
             ],
             [
              0.1111111111111111,
              "#46039f"
             ],
             [
              0.2222222222222222,
              "#7201a8"
             ],
             [
              0.3333333333333333,
              "#9c179e"
             ],
             [
              0.4444444444444444,
              "#bd3786"
             ],
             [
              0.5555555555555556,
              "#d8576b"
             ],
             [
              0.6666666666666666,
              "#ed7953"
             ],
             [
              0.7777777777777778,
              "#fb9f3a"
             ],
             [
              0.8888888888888888,
              "#fdca26"
             ],
             [
              1,
              "#f0f921"
             ]
            ],
            "type": "histogram2dcontour"
           }
          ],
          "mesh3d": [
           {
            "colorbar": {
             "outlinewidth": 0,
             "ticks": ""
            },
            "type": "mesh3d"
           }
          ],
          "parcoords": [
           {
            "line": {
             "colorbar": {
              "outlinewidth": 0,
              "ticks": ""
             }
            },
            "type": "parcoords"
           }
          ],
          "pie": [
           {
            "automargin": true,
            "type": "pie"
           }
          ],
          "scatter": [
           {
            "fillpattern": {
             "fillmode": "overlay",
             "size": 10,
             "solidity": 0.2
            },
            "type": "scatter"
           }
          ],
          "scatter3d": [
           {
            "line": {
             "colorbar": {
              "outlinewidth": 0,
              "ticks": ""
             }
            },
            "marker": {
             "colorbar": {
              "outlinewidth": 0,
              "ticks": ""
             }
            },
            "type": "scatter3d"
           }
          ],
          "scattercarpet": [
           {
            "marker": {
             "colorbar": {
              "outlinewidth": 0,
              "ticks": ""
             }
            },
            "type": "scattercarpet"
           }
          ],
          "scattergeo": [
           {
            "marker": {
             "colorbar": {
              "outlinewidth": 0,
              "ticks": ""
             }
            },
            "type": "scattergeo"
           }
          ],
          "scattergl": [
           {
            "marker": {
             "colorbar": {
              "outlinewidth": 0,
              "ticks": ""
             }
            },
            "type": "scattergl"
           }
          ],
          "scattermap": [
           {
            "marker": {
             "colorbar": {
              "outlinewidth": 0,
              "ticks": ""
             }
            },
            "type": "scattermap"
           }
          ],
          "scattermapbox": [
           {
            "marker": {
             "colorbar": {
              "outlinewidth": 0,
              "ticks": ""
             }
            },
            "type": "scattermapbox"
           }
          ],
          "scatterpolar": [
           {
            "marker": {
             "colorbar": {
              "outlinewidth": 0,
              "ticks": ""
             }
            },
            "type": "scatterpolar"
           }
          ],
          "scatterpolargl": [
           {
            "marker": {
             "colorbar": {
              "outlinewidth": 0,
              "ticks": ""
             }
            },
            "type": "scatterpolargl"
           }
          ],
          "scatterternary": [
           {
            "marker": {
             "colorbar": {
              "outlinewidth": 0,
              "ticks": ""
             }
            },
            "type": "scatterternary"
           }
          ],
          "surface": [
           {
            "colorbar": {
             "outlinewidth": 0,
             "ticks": ""
            },
            "colorscale": [
             [
              0,
              "#0d0887"
             ],
             [
              0.1111111111111111,
              "#46039f"
             ],
             [
              0.2222222222222222,
              "#7201a8"
             ],
             [
              0.3333333333333333,
              "#9c179e"
             ],
             [
              0.4444444444444444,
              "#bd3786"
             ],
             [
              0.5555555555555556,
              "#d8576b"
             ],
             [
              0.6666666666666666,
              "#ed7953"
             ],
             [
              0.7777777777777778,
              "#fb9f3a"
             ],
             [
              0.8888888888888888,
              "#fdca26"
             ],
             [
              1,
              "#f0f921"
             ]
            ],
            "type": "surface"
           }
          ],
          "table": [
           {
            "cells": {
             "fill": {
              "color": "#EBF0F8"
             },
             "line": {
              "color": "white"
             }
            },
            "header": {
             "fill": {
              "color": "#C8D4E3"
             },
             "line": {
              "color": "white"
             }
            },
            "type": "table"
           }
          ]
         },
         "layout": {
          "annotationdefaults": {
           "arrowcolor": "#2a3f5f",
           "arrowhead": 0,
           "arrowwidth": 1
          },
          "autotypenumbers": "strict",
          "coloraxis": {
           "colorbar": {
            "outlinewidth": 0,
            "ticks": ""
           }
          },
          "colorscale": {
           "diverging": [
            [
             0,
             "#8e0152"
            ],
            [
             0.1,
             "#c51b7d"
            ],
            [
             0.2,
             "#de77ae"
            ],
            [
             0.3,
             "#f1b6da"
            ],
            [
             0.4,
             "#fde0ef"
            ],
            [
             0.5,
             "#f7f7f7"
            ],
            [
             0.6,
             "#e6f5d0"
            ],
            [
             0.7,
             "#b8e186"
            ],
            [
             0.8,
             "#7fbc41"
            ],
            [
             0.9,
             "#4d9221"
            ],
            [
             1,
             "#276419"
            ]
           ],
           "sequential": [
            [
             0,
             "#0d0887"
            ],
            [
             0.1111111111111111,
             "#46039f"
            ],
            [
             0.2222222222222222,
             "#7201a8"
            ],
            [
             0.3333333333333333,
             "#9c179e"
            ],
            [
             0.4444444444444444,
             "#bd3786"
            ],
            [
             0.5555555555555556,
             "#d8576b"
            ],
            [
             0.6666666666666666,
             "#ed7953"
            ],
            [
             0.7777777777777778,
             "#fb9f3a"
            ],
            [
             0.8888888888888888,
             "#fdca26"
            ],
            [
             1,
             "#f0f921"
            ]
           ],
           "sequentialminus": [
            [
             0,
             "#0d0887"
            ],
            [
             0.1111111111111111,
             "#46039f"
            ],
            [
             0.2222222222222222,
             "#7201a8"
            ],
            [
             0.3333333333333333,
             "#9c179e"
            ],
            [
             0.4444444444444444,
             "#bd3786"
            ],
            [
             0.5555555555555556,
             "#d8576b"
            ],
            [
             0.6666666666666666,
             "#ed7953"
            ],
            [
             0.7777777777777778,
             "#fb9f3a"
            ],
            [
             0.8888888888888888,
             "#fdca26"
            ],
            [
             1,
             "#f0f921"
            ]
           ]
          },
          "colorway": [
           "#636efa",
           "#EF553B",
           "#00cc96",
           "#ab63fa",
           "#FFA15A",
           "#19d3f3",
           "#FF6692",
           "#B6E880",
           "#FF97FF",
           "#FECB52"
          ],
          "font": {
           "color": "#2a3f5f"
          },
          "geo": {
           "bgcolor": "white",
           "lakecolor": "white",
           "landcolor": "#E5ECF6",
           "showlakes": true,
           "showland": true,
           "subunitcolor": "white"
          },
          "hoverlabel": {
           "align": "left"
          },
          "hovermode": "closest",
          "mapbox": {
           "style": "light"
          },
          "paper_bgcolor": "white",
          "plot_bgcolor": "#E5ECF6",
          "polar": {
           "angularaxis": {
            "gridcolor": "white",
            "linecolor": "white",
            "ticks": ""
           },
           "bgcolor": "#E5ECF6",
           "radialaxis": {
            "gridcolor": "white",
            "linecolor": "white",
            "ticks": ""
           }
          },
          "scene": {
           "xaxis": {
            "backgroundcolor": "#E5ECF6",
            "gridcolor": "white",
            "gridwidth": 2,
            "linecolor": "white",
            "showbackground": true,
            "ticks": "",
            "zerolinecolor": "white"
           },
           "yaxis": {
            "backgroundcolor": "#E5ECF6",
            "gridcolor": "white",
            "gridwidth": 2,
            "linecolor": "white",
            "showbackground": true,
            "ticks": "",
            "zerolinecolor": "white"
           },
           "zaxis": {
            "backgroundcolor": "#E5ECF6",
            "gridcolor": "white",
            "gridwidth": 2,
            "linecolor": "white",
            "showbackground": true,
            "ticks": "",
            "zerolinecolor": "white"
           }
          },
          "shapedefaults": {
           "line": {
            "color": "#2a3f5f"
           }
          },
          "ternary": {
           "aaxis": {
            "gridcolor": "white",
            "linecolor": "white",
            "ticks": ""
           },
           "baxis": {
            "gridcolor": "white",
            "linecolor": "white",
            "ticks": ""
           },
           "bgcolor": "#E5ECF6",
           "caxis": {
            "gridcolor": "white",
            "linecolor": "white",
            "ticks": ""
           }
          },
          "title": {
           "x": 0.05
          },
          "xaxis": {
           "automargin": true,
           "gridcolor": "white",
           "linecolor": "white",
           "ticks": "",
           "title": {
            "standoff": 15
           },
           "zerolinecolor": "white",
           "zerolinewidth": 2
          },
          "yaxis": {
           "automargin": true,
           "gridcolor": "white",
           "linecolor": "white",
           "ticks": "",
           "title": {
            "standoff": 15
           },
           "zerolinecolor": "white",
           "zerolinewidth": 2
          }
         }
        },
        "title": {
         "text": "Model Performance Comparison"
        },
        "xaxis": {
         "title": {
          "text": "Model"
         }
        },
        "yaxis": {
         "title": {
          "text": "Score"
         }
        }
       }
      }
     },
     "metadata": {},
     "output_type": "display_data"
    },
    {
     "data": {
      "application/vnd.plotly.v1+json": {
       "config": {
        "plotlyServerURL": "https://plot.ly"
       },
       "data": [
        {
         "mode": "lines",
         "name": "Logistic Regression (AUC = 0.836)",
         "type": "scatter",
         "x": {
          "bdata": "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",
          "dtype": "f8"
         },
         "y": {
          "bdata": "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",
          "dtype": "f8"
         }
        },
        {
         "mode": "lines",
         "name": "Decision Tree (AUC = 0.659)",
         "type": "scatter",
         "x": {
          "bdata": "AAAAAAAAAAB8AS6Ss77HP9UmCXEF/sc/AAAAAAAA8D8=",
          "dtype": "f8"
         },
         "y": {
          "bdata": "AAAAAAAAAAAsoHG3zivgPyygcbfOK+A/AAAAAAAA8D8=",
          "dtype": "f8"
         }
        },
        {
         "mode": "lines",
         "name": "Random Forest (AUC = 0.818)",
         "type": "scatter",
         "x": {
          "bdata": "AAAAAAAAAAClrJJt76hfP6Wskm3vqF8/fAEukrO+Zz98AS6Ss75nP3wBLpKzvmc/paySbe+obz+lrJJt76hvP+ere6SVyXM/56t7pJXJcz98AS6Ss753P3wBLpKzvnc/EVfgf9Gzez8RV+B/0bN7P6Wskm3vqH8/56t7pJXJgz98AS6Ss76HP3wBLpKzvoc/RiwHiUK5iT8RV+B/0bOLP6Wskm3vqI8/uOs1Mr/RkD/nq3uklcmTP7LWVJskxJU/fAEukrO+lz98AS6Ss76XP+GWmg37u5g/4ZaaDfu7mD/hlpoN+7uYP0YsB4lCuZk/q8FzBIq2mj/bgbl2YK6dPwWhf3QbU6A/uOs1Mr/RoD8dgaKtBs+hP+ere6SVyaM/56t7pJXJoz9MQegf3cakP2QhC1nIQqY/F2zBFmzBpj/JtnfUD0CnP+GWmg37u6g/4ZaaDfu7qD+U4VDLnjqpP0YsB4lCuak/+Xa9RuY3qj8oNwO5vC+tP43MbzQELa4/uOs1Mr/RsD8RERERERGxP9DLWGuqTbI/KfEzSvyMsj81YcXm8UqzP0xB6B/dxrQ/stZUmyTEtT9wkZz1vQC3P+GWmg37u7g/lOFQy546uT/tBiyq8Hm5P6vBcwSKtro/BedO49v1uj9qfLteI/O7P8Ohlj11Mrw/glzelw5vvT/n8UoTVmy+P6x7pJXJE8A/F8lZ3wtwwT92pn2MWA7CP9WDoTmlrMI/2zvqB6ALwz81YcXm8UrDP0HRVoPnCMQ/pmbD/i4GxT9S+TDu1yXFP7iOnWkfI8Y/ZCELWchCxj9wkZz1vQDHP8m2d9QPQMc/L0zkT1c9yD86vHXsTPvIP/8uBhXhlso/tzEFoX90yz927Ez7GLHMP4gUJ2YJzs0/Rs9uwKIKzz+se6SVyRPQPwj9o9uYgtA/u0damTwB0T/EW8fOtI/RP8Rbx860j9E/dqZ9jFgO0j9/uurB0JzSP9WDoTmlrNI/3pcObx070z+Xmg37uxjUP/Z3MagIt9Q/TEHoH93G1D9VVVVVVVXVP1VVVVVVVdU/AujCRP501T8RtHhIcWLWP8m2d9QPQNc/ybZ31A9A1z9/XVL5MO7XPzQELR5SnNg/Q9DiIcWJ2T+oZU+dDIfaP7cxBaF/dNs/HyOWg0Sh3D/e3d3d3d3dP5yYJTh3Gt8/SSuTJyA63z9JK5MnIDrfP7AFW7AFW+A/uRnI5X3p4D9w7jS+Xa/hPynxM0r8jOI/OxkOteyp4z88R6Boq8HjP6MKn5ex1uQ/owqfl7HW5D+2YAu2YAvmP7ZgC7ZgC+Y/c+3AXDsw5z9z7cBcOzDnP4mfUeJnlOg/VyZPQHS+6j8AAAAAAADwPw==",
          "dtype": "f8"
         },
         "y": {
          "bdata": "AAAAAAAAAADnFdC4W+eVP6QY6i9HpJg/bhCcyoRtoD8qE7ZBcCqjP4kUQ/3liKQ/pBjqL0ekqD8DGnfrvAKqP2EbBKcyYas/bhCcyoRtsD97ku9jNXuyP4kUQ/3liLQ/5xXQuFvntT/1lyNSDPW3PwMad+u8Aro/wByRYqi/vD/NnuT7WM2+P30fq9mTfL8/bhCcyoRtwD97ku9jNXvCP4JTmbANgsM/kNXsSb6PxT9GF1100UXHP/WXI1IM9cc/TdgGwalMyD9aWlpaWlrKP2EbBKcyYcs/uVvnFdC4yz9o3K3zCmjMPx4eHh4eHs4/fR+r2ZN8zz9CcCoTtkHQP5mwDYJTmdA/mbANglOZ0D+gcbfOK6DRP0/yfaxmT9I/e5LvYzV70j//ckSKof7SPwU07tZ5BdQ/BTTu1nkF1D+JFEP95YjUP7W0tLS0tNQ/4VQmbIPg1D/hVCZsg+DUP2Q1e5LvY9U/ZDV7ku9j1T/CNghOZcLWP3K3ziugcdc/ITiVCdsg2D8hOJUJ2yDYP9C4W+cV0Ng/0Lhb5xXQ2D/XeQU07tbZP4b6yxEphto/3jqvgMbd2j81e5LvYzXbPzw8PDw8PNw/Q/3liBRD3T9D/eWIFEPdP/J9rGZP8t0/Sr6P1exJ3j9RfzkixVDfP1F/OSLFUN8/qL8ckWKo3z9uEJzKhG3gP8VQfzkixeA/8fDw8PDw4D9JMdRfjkjhP7ZBcCoTtuE/OSLFUH854j+9Ahp367ziP2yD4FQmbOM/bIPgVCZs4z9sg+BUJmzjP5gjUgz1l+M/mCNSDPWX4z8bBKcyYRvkP1100UUXXeQ/tbS0tLS05D84lQnbIDjlP3oFNO7WeeU/egU07tZ55T/RRRdddNHlPz9Wsyf5PuY/rGZP8n2s5j/YBsGpTNjmP1znFdC4W+c/iIeHh4eH5z8LaNyt8wroPyE4lQnbIOg/Y6i/HJFi6D/8WM2e5PvoP/xYzZ7k++g/VJmwDYJT6T/tSb6P1ezpP0SKof5yROo/WlpaWlpa6j9wKhO2QXDqP4b6yxEphuo/hvrLESmG6j/eOq+Axt3qPx+r2ZN8H+s/NXuS72M16z+jiy666KLrP/vLESmG+us/EJzKhG0Q7D8QnMqEbRDsP1IM9ZcjUuw/aNyt8wpo7D9+rGZP8n3sP9bsSb6P1ew/1uxJvo/V7D/rvAIad+vsPwGNu3VeAe0/mz3J97Ga7T8ITmXCNgjuPx4eHh4eHu4/YI5IMdRf7j9gjkgx1F/uP6L+ckSKoe4/t84roHG37j8PDw8PDw/vPyXfx2r2JO8/UX85IsVQ7z9nT/J9rGbvP5LvYzV7ku8/vo/V7Em+7z8AAAAAAADwPw==",
          "dtype": "f8"
         }
        },
        {
         "mode": "lines",
         "name": "Gradient Boosting (AUC = 0.843)",
         "type": "scatter",
         "x": {
          "bdata": "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",
          "dtype": "f8"
         },
         "y": {
          "bdata": "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",
          "dtype": "f8"
         }
        },
        {
         "line": {
          "dash": "dash"
         },
         "mode": "lines",
         "name": "Random Classifier",
         "type": "scatter",
         "x": [
          0,
          1
         ],
         "y": [
          0,
          1
         ]
        }
       ],
       "layout": {
        "height": 700,
        "template": {
         "data": {
          "bar": [
           {
            "error_x": {
             "color": "#2a3f5f"
            },
            "error_y": {
             "color": "#2a3f5f"
            },
            "marker": {
             "line": {
              "color": "#E5ECF6",
              "width": 0.5
             },
             "pattern": {
              "fillmode": "overlay",
              "size": 10,
              "solidity": 0.2
             }
            },
            "type": "bar"
           }
          ],
          "barpolar": [
           {
            "marker": {
             "line": {
              "color": "#E5ECF6",
              "width": 0.5
             },
             "pattern": {
              "fillmode": "overlay",
              "size": 10,
              "solidity": 0.2
             }
            },
            "type": "barpolar"
           }
          ],
          "carpet": [
           {
            "aaxis": {
             "endlinecolor": "#2a3f5f",
             "gridcolor": "white",
             "linecolor": "white",
             "minorgridcolor": "white",
             "startlinecolor": "#2a3f5f"
            },
            "baxis": {
             "endlinecolor": "#2a3f5f",
             "gridcolor": "white",
             "linecolor": "white",
             "minorgridcolor": "white",
             "startlinecolor": "#2a3f5f"
            },
            "type": "carpet"
           }
          ],
          "choropleth": [
           {
            "colorbar": {
             "outlinewidth": 0,
             "ticks": ""
            },
            "type": "choropleth"
           }
          ],
          "contour": [
           {
            "colorbar": {
             "outlinewidth": 0,
             "ticks": ""
            },
            "colorscale": [
             [
              0,
              "#0d0887"
             ],
             [
              0.1111111111111111,
              "#46039f"
             ],
             [
              0.2222222222222222,
              "#7201a8"
             ],
             [
              0.3333333333333333,
              "#9c179e"
             ],
             [
              0.4444444444444444,
              "#bd3786"
             ],
             [
              0.5555555555555556,
              "#d8576b"
             ],
             [
              0.6666666666666666,
              "#ed7953"
             ],
             [
              0.7777777777777778,
              "#fb9f3a"
             ],
             [
              0.8888888888888888,
              "#fdca26"
             ],
             [
              1,
              "#f0f921"
             ]
            ],
            "type": "contour"
           }
          ],
          "contourcarpet": [
           {
            "colorbar": {
             "outlinewidth": 0,
             "ticks": ""
            },
            "type": "contourcarpet"
           }
          ],
          "heatmap": [
           {
            "colorbar": {
             "outlinewidth": 0,
             "ticks": ""
            },
            "colorscale": [
             [
              0,
              "#0d0887"
             ],
             [
              0.1111111111111111,
              "#46039f"
             ],
             [
              0.2222222222222222,
              "#7201a8"
             ],
             [
              0.3333333333333333,
              "#9c179e"
             ],
             [
              0.4444444444444444,
              "#bd3786"
             ],
             [
              0.5555555555555556,
              "#d8576b"
             ],
             [
              0.6666666666666666,
              "#ed7953"
             ],
             [
              0.7777777777777778,
              "#fb9f3a"
             ],
             [
              0.8888888888888888,
              "#fdca26"
             ],
             [
              1,
              "#f0f921"
             ]
            ],
            "type": "heatmap"
           }
          ],
          "histogram": [
           {
            "marker": {
             "pattern": {
              "fillmode": "overlay",
              "size": 10,
              "solidity": 0.2
             }
            },
            "type": "histogram"
           }
          ],
          "histogram2d": [
           {
            "colorbar": {
             "outlinewidth": 0,
             "ticks": ""
            },
            "colorscale": [
             [
              0,
              "#0d0887"
             ],
             [
              0.1111111111111111,
              "#46039f"
             ],
             [
              0.2222222222222222,
              "#7201a8"
             ],
             [
              0.3333333333333333,
              "#9c179e"
             ],
             [
              0.4444444444444444,
              "#bd3786"
             ],
             [
              0.5555555555555556,
              "#d8576b"
             ],
             [
              0.6666666666666666,
              "#ed7953"
             ],
             [
              0.7777777777777778,
              "#fb9f3a"
             ],
             [
              0.8888888888888888,
              "#fdca26"
             ],
             [
              1,
              "#f0f921"
             ]
            ],
            "type": "histogram2d"
           }
          ],
          "histogram2dcontour": [
           {
            "colorbar": {
             "outlinewidth": 0,
             "ticks": ""
            },
            "colorscale": [
             [
              0,
              "#0d0887"
             ],
             [
              0.1111111111111111,
              "#46039f"
             ],
             [
              0.2222222222222222,
              "#7201a8"
             ],
             [
              0.3333333333333333,
              "#9c179e"
             ],
             [
              0.4444444444444444,
              "#bd3786"
             ],
             [
              0.5555555555555556,
              "#d8576b"
             ],
             [
              0.6666666666666666,
              "#ed7953"
             ],
             [
              0.7777777777777778,
              "#fb9f3a"
             ],
             [
              0.8888888888888888,
              "#fdca26"
             ],
             [
              1,
              "#f0f921"
             ]
            ],
            "type": "histogram2dcontour"
           }
          ],
          "mesh3d": [
           {
            "colorbar": {
             "outlinewidth": 0,
             "ticks": ""
            },
            "type": "mesh3d"
           }
          ],
          "parcoords": [
           {
            "line": {
             "colorbar": {
              "outlinewidth": 0,
              "ticks": ""
             }
            },
            "type": "parcoords"
           }
          ],
          "pie": [
           {
            "automargin": true,
            "type": "pie"
           }
          ],
          "scatter": [
           {
            "fillpattern": {
             "fillmode": "overlay",
             "size": 10,
             "solidity": 0.2
            },
            "type": "scatter"
           }
          ],
          "scatter3d": [
           {
            "line": {
             "colorbar": {
              "outlinewidth": 0,
              "ticks": ""
             }
            },
            "marker": {
             "colorbar": {
              "outlinewidth": 0,
              "ticks": ""
             }
            },
            "type": "scatter3d"
           }
          ],
          "scattercarpet": [
           {
            "marker": {
             "colorbar": {
              "outlinewidth": 0,
              "ticks": ""
             }
            },
            "type": "scattercarpet"
           }
          ],
          "scattergeo": [
           {
            "marker": {
             "colorbar": {
              "outlinewidth": 0,
              "ticks": ""
             }
            },
            "type": "scattergeo"
           }
          ],
          "scattergl": [
           {
            "marker": {
             "colorbar": {
              "outlinewidth": 0,
              "ticks": ""
             }
            },
            "type": "scattergl"
           }
          ],
          "scattermap": [
           {
            "marker": {
             "colorbar": {
              "outlinewidth": 0,
              "ticks": ""
             }
            },
            "type": "scattermap"
           }
          ],
          "scattermapbox": [
           {
            "marker": {
             "colorbar": {
              "outlinewidth": 0,
              "ticks": ""
             }
            },
            "type": "scattermapbox"
           }
          ],
          "scatterpolar": [
           {
            "marker": {
             "colorbar": {
              "outlinewidth": 0,
              "ticks": ""
             }
            },
            "type": "scatterpolar"
           }
          ],
          "scatterpolargl": [
           {
            "marker": {
             "colorbar": {
              "outlinewidth": 0,
              "ticks": ""
             }
            },
            "type": "scatterpolargl"
           }
          ],
          "scatterternary": [
           {
            "marker": {
             "colorbar": {
              "outlinewidth": 0,
              "ticks": ""
             }
            },
            "type": "scatterternary"
           }
          ],
          "surface": [
           {
            "colorbar": {
             "outlinewidth": 0,
             "ticks": ""
            },
            "colorscale": [
             [
              0,
              "#0d0887"
             ],
             [
              0.1111111111111111,
              "#46039f"
             ],
             [
              0.2222222222222222,
              "#7201a8"
             ],
             [
              0.3333333333333333,
              "#9c179e"
             ],
             [
              0.4444444444444444,
              "#bd3786"
             ],
             [
              0.5555555555555556,
              "#d8576b"
             ],
             [
              0.6666666666666666,
              "#ed7953"
             ],
             [
              0.7777777777777778,
              "#fb9f3a"
             ],
             [
              0.8888888888888888,
              "#fdca26"
             ],
             [
              1,
              "#f0f921"
             ]
            ],
            "type": "surface"
           }
          ],
          "table": [
           {
            "cells": {
             "fill": {
              "color": "#EBF0F8"
             },
             "line": {
              "color": "white"
             }
            },
            "header": {
             "fill": {
              "color": "#C8D4E3"
             },
             "line": {
              "color": "white"
             }
            },
            "type": "table"
           }
          ]
         },
         "layout": {
          "annotationdefaults": {
           "arrowcolor": "#2a3f5f",
           "arrowhead": 0,
           "arrowwidth": 1
          },
          "autotypenumbers": "strict",
          "coloraxis": {
           "colorbar": {
            "outlinewidth": 0,
            "ticks": ""
           }
          },
          "colorscale": {
           "diverging": [
            [
             0,
             "#8e0152"
            ],
            [
             0.1,
             "#c51b7d"
            ],
            [
             0.2,
             "#de77ae"
            ],
            [
             0.3,
             "#f1b6da"
            ],
            [
             0.4,
             "#fde0ef"
            ],
            [
             0.5,
             "#f7f7f7"
            ],
            [
             0.6,
             "#e6f5d0"
            ],
            [
             0.7,
             "#b8e186"
            ],
            [
             0.8,
             "#7fbc41"
            ],
            [
             0.9,
             "#4d9221"
            ],
            [
             1,
             "#276419"
            ]
           ],
           "sequential": [
            [
             0,
             "#0d0887"
            ],
            [
             0.1111111111111111,
             "#46039f"
            ],
            [
             0.2222222222222222,
             "#7201a8"
            ],
            [
             0.3333333333333333,
             "#9c179e"
            ],
            [
             0.4444444444444444,
             "#bd3786"
            ],
            [
             0.5555555555555556,
             "#d8576b"
            ],
            [
             0.6666666666666666,
             "#ed7953"
            ],
            [
             0.7777777777777778,
             "#fb9f3a"
            ],
            [
             0.8888888888888888,
             "#fdca26"
            ],
            [
             1,
             "#f0f921"
            ]
           ],
           "sequentialminus": [
            [
             0,
             "#0d0887"
            ],
            [
             0.1111111111111111,
             "#46039f"
            ],
            [
             0.2222222222222222,
             "#7201a8"
            ],
            [
             0.3333333333333333,
             "#9c179e"
            ],
            [
             0.4444444444444444,
             "#bd3786"
            ],
            [
             0.5555555555555556,
             "#d8576b"
            ],
            [
             0.6666666666666666,
             "#ed7953"
            ],
            [
             0.7777777777777778,
             "#fb9f3a"
            ],
            [
             0.8888888888888888,
             "#fdca26"
            ],
            [
             1,
             "#f0f921"
            ]
           ]
          },
          "colorway": [
           "#636efa",
           "#EF553B",
           "#00cc96",
           "#ab63fa",
           "#FFA15A",
           "#19d3f3",
           "#FF6692",
           "#B6E880",
           "#FF97FF",
           "#FECB52"
          ],
          "font": {
           "color": "#2a3f5f"
          },
          "geo": {
           "bgcolor": "white",
           "lakecolor": "white",
           "landcolor": "#E5ECF6",
           "showlakes": true,
           "showland": true,
           "subunitcolor": "white"
          },
          "hoverlabel": {
           "align": "left"
          },
          "hovermode": "closest",
          "mapbox": {
           "style": "light"
          },
          "paper_bgcolor": "white",
          "plot_bgcolor": "#E5ECF6",
          "polar": {
           "angularaxis": {
            "gridcolor": "white",
            "linecolor": "white",
            "ticks": ""
           },
           "bgcolor": "#E5ECF6",
           "radialaxis": {
            "gridcolor": "white",
            "linecolor": "white",
            "ticks": ""
           }
          },
          "scene": {
           "xaxis": {
            "backgroundcolor": "#E5ECF6",
            "gridcolor": "white",
            "gridwidth": 2,
            "linecolor": "white",
            "showbackground": true,
            "ticks": "",
            "zerolinecolor": "white"
           },
           "yaxis": {
            "backgroundcolor": "#E5ECF6",
            "gridcolor": "white",
            "gridwidth": 2,
            "linecolor": "white",
            "showbackground": true,
            "ticks": "",
            "zerolinecolor": "white"
           },
           "zaxis": {
            "backgroundcolor": "#E5ECF6",
            "gridcolor": "white",
            "gridwidth": 2,
            "linecolor": "white",
            "showbackground": true,
            "ticks": "",
            "zerolinecolor": "white"
           }
          },
          "shapedefaults": {
           "line": {
            "color": "#2a3f5f"
           }
          },
          "ternary": {
           "aaxis": {
            "gridcolor": "white",
            "linecolor": "white",
            "ticks": ""
           },
           "baxis": {
            "gridcolor": "white",
            "linecolor": "white",
            "ticks": ""
           },
           "bgcolor": "#E5ECF6",
           "caxis": {
            "gridcolor": "white",
            "linecolor": "white",
            "ticks": ""
           }
          },
          "title": {
           "x": 0.05
          },
          "xaxis": {
           "automargin": true,
           "gridcolor": "white",
           "linecolor": "white",
           "ticks": "",
           "title": {
            "standoff": 15
           },
           "zerolinecolor": "white",
           "zerolinewidth": 2
          },
          "yaxis": {
           "automargin": true,
           "gridcolor": "white",
           "linecolor": "white",
           "ticks": "",
           "title": {
            "standoff": 15
           },
           "zerolinecolor": "white",
           "zerolinewidth": 2
          }
         }
        },
        "title": {
         "text": "ROC Curves Comparison"
        },
        "width": 700,
        "xaxis": {
         "constrain": "domain",
         "title": {
          "text": "False Positive Rate"
         }
        },
        "yaxis": {
         "scaleanchor": "x",
         "scaleratio": 1,
         "title": {
          "text": "True Positive Rate"
         }
        }
       }
      }
     },
     "metadata": {},
     "output_type": "display_data"
    }
   ],
   "source": [
    "# 3. Visualize Results\n",
    "def plot_model_comparison(results_df, roc_curves):\n",
    "    # Metrics Comparison\n",
    "    fig1 = go.Figure()\n",
    "    metrics = ['Accuracy', 'Precision', 'Recall', 'F1 Score']\n",
    "    \n",
    "    for metric in metrics:\n",
    "        fig1.add_trace(go.Bar(\n",
    "            name=metric,\n",
    "            x=results_df['Model'],\n",
    "            y=results_df[metric]\n",
    "        ))\n",
    "    \n",
    "    fig1.update_layout(\n",
    "        title='Model Performance Comparison',\n",
    "        barmode='group',\n",
    "        yaxis_title='Score',\n",
    "        xaxis_title='Model'\n",
    "    )\n",
    "    fig1.show()\n",
    "    \n",
    "    # ROC Curves\n",
    "    fig2 = go.Figure()\n",
    "    \n",
    "    for model_name, (fpr, tpr, roc_auc) in roc_curves.items():\n",
    "        fig2.add_trace(go.Scatter(\n",
    "            x=fpr, y=tpr,\n",
    "            name=f'{model_name} (AUC = {roc_auc:.3f})',\n",
    "            mode='lines'\n",
    "        ))\n",
    "    \n",
    "    fig2.add_trace(go.Scatter(\n",
    "        x=[0, 1], y=[0, 1],\n",
    "        name='Random Classifier',\n",
    "        mode='lines',\n",
    "        line=dict(dash='dash')\n",
    "    ))\n",
    "    \n",
    "    fig2.update_layout(\n",
    "        title='ROC Curves Comparison',\n",
    "        xaxis_title='False Positive Rate',\n",
    "        yaxis_title='True Positive Rate',\n",
    "        yaxis=dict(scaleanchor=\"x\", scaleratio=1),\n",
    "        xaxis=dict(constrain='domain'),\n",
    "        width=700, height=700\n",
    "    )\n",
    "    fig2.show()\n",
    "\n",
    "plot_model_comparison(results_df, roc_curves)"
   ]
  },
  {
   "cell_type": "code",
   "execution_count": 4,
   "metadata": {},
   "outputs": [
    {
     "name": "stdout",
     "output_type": "stream",
     "text": [
      "🏆 Best Model: Logistic Regression\n",
      "\n",
      "Classification Report:\n",
      "              precision    recall  f1-score   support\n",
      "\n",
      "           0       0.84      0.89      0.86      1035\n",
      "           1       0.63      0.53      0.57       374\n",
      "\n",
      "    accuracy                           0.79      1409\n",
      "   macro avg       0.73      0.71      0.72      1409\n",
      "weighted avg       0.78      0.79      0.79      1409\n",
      "\n"
     ]
    }
   ],
   "source": [
    "# 4. Best Model Analysis\n",
    "# Select best model based on F1 Score\n",
    "best_model_name = results_df.loc[results_df['F1 Score'].idxmax(), 'Model']\n",
    "best_model = models[best_model_name]\n",
    "\n",
    "print(f\"🏆 Best Model: {best_model_name}\")\n",
    "\n",
    "# Detailed analysis of best model\n",
    "y_pred = best_model.predict(X_test)\n",
    "print(\"\\nClassification Report:\")\n",
    "print(classification_report(y_test, y_pred))\n",
    "\n",
    "# Feature importance for best model\n",
    "if hasattr(best_model, 'feature_importances_'):\n",
    "    importance = pd.DataFrame({\n",
    "        'Feature': X_train.columns,\n",
    "        'Importance': best_model.feature_importances_\n",
    "    }).sort_values('Importance', ascending=False)\n",
    "    \n",
    "    fig = px.bar(importance, x='Feature', y='Importance',\n",
    "                 title=f'Feature Importance - {best_model_name}')\n",
    "    fig.show()"
   ]
  },
  {
   "cell_type": "code",
   "execution_count": 6,
   "metadata": {},
   "outputs": [
    {
     "name": "stdout",
     "output_type": "stream",
     "text": [
      "✅ Best model saved successfully\n"
     ]
    }
   ],
   "source": [
    "# 5. Save Best Model\n",
    "model_data = {\n",
    "    'model': best_model,\n",
    "    'metrics': results_df.loc[results_df['Model'] == best_model_name].to_dict('records')[0],\n",
    "    'feature_names': list(X_train.columns)\n",
    "}\n",
    "\n",
    "with open('../models/best_model.pkl', 'wb') as f:\n",
    "    pickle.dump(model_data, f)\n",
    "\n",
    "print(\"✅ Best model saved successfully\")"
   ]
  }
 ],
 "metadata": {
  "kernelspec": {
   "display_name": "venv",
   "language": "python",
   "name": "python3"
  },
  "language_info": {
   "codemirror_mode": {
    "name": "ipython",
    "version": 3
   },
   "file_extension": ".py",
   "mimetype": "text/x-python",
   "name": "python",
   "nbconvert_exporter": "python",
   "pygments_lexer": "ipython3",
   "version": "3.13.1"
  }
 },
 "nbformat": 4,
 "nbformat_minor": 2
}
